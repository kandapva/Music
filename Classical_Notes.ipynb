{
 "cells": [
  {
   "cell_type": "markdown",
   "metadata": {},
   "source": [
    "# Translating Swaras \n",
    "In classical music notation will be difficult play in a particular set of swaras whereas the swaraas can be shifted to your convenience and still the notes structure can be maintained. The below set of codes helps in accomplising this.\n",
    "## Swaraa Order \n",
    "| Sthana \t| Swara \t|\n",
    "|--------\t|-------\t|\n",
    "| 0 \t| S \t|\n",
    "| 1 \t| R1 \t|\n",
    "| 2 \t| R2 \t|\n",
    "| 3 \t| G1 \t|\n",
    "| 4 \t| G2 \t|\n",
    "| 5 \t| M1 \t|\n",
    "| 6 \t| M2 \t|\n",
    "| 7 \t| P \t|\n",
    "| 8 \t| D1 \t|\n",
    "| 9 \t| D2 \t|\n",
    "| 10 \t| N1 \t|\n",
    "| 11 \t| N2 \t|\n",
    "\n",
    "In the above, Sthana gives each swara a unique ascending number. Translation variable (transl) can be either increase or decreased. Beware that this translation is valid only if the arohanam and avarohanam are made with same set of swaras(Anniya swaras are not recognized). Swara of a song can be kept in file the translated swara of that song is rendered."
   ]
  },
  {
   "cell_type": "code",
   "execution_count": 1,
   "metadata": {},
   "outputs": [],
   "source": [
    "import numpy as np\n",
    "\n",
    "#Dictionary for the Swaraas\n",
    "Swara = {-5:'P_l',-4:'D1_l',-3:'D2_l',-2:'N1_l',-1:'N2_l',\n",
    "         0:'S',1:'R1',2:'R2',3:'G1',4:'G2',5:'M1',6:'M2',7:'P',8:'D1',9:'D2',10:'N1',11:'N2',\n",
    "         12:'S_u',13:'R1_u',14:'R2_u',15:'G1_u',16:'G2_u',17:'M1_u',18:'M2_u',19:'P_u'}\n",
    "Swara_n = {'P_l':-5,'D1_l':-4,'D2_l':-3,'N1_l':-2,'N2_l':-1,\n",
    "           'S':0,'R1':1,'R2':2,'G1':3,'G2':4,'M1':5,'M2':6,'P':7,'D1':8,'D2':9,'N1':10,'N2':11,\n",
    "           'S_u':12,'R1_u':13,'R2_u':14,'G1_u':15,'G2_u':16,'M1_u':17,'M2_u':18,'P_u':19}"
   ]
  },
  {
   "cell_type": "code",
   "execution_count": 2,
   "metadata": {},
   "outputs": [],
   "source": [
    "# Example Raagam : Malahari\n",
    "A_u = ['S','R2','M1','P','D2','S_u'] # Provide Arohanam\n",
    "A_l = ['S_u','D2','P','M1','G2','R2','S']  # Provide Avarohanam\n",
    "transl=2 # Sthana Shift"
   ]
  },
  {
   "cell_type": "code",
   "execution_count": 3,
   "metadata": {},
   "outputs": [],
   "source": [
    "def get_swara_stan(a):\n",
    "    \"\"\"\n",
    "        Gets the swaras as input and compares with Dictionary and converts it to \n",
    "        numeric values\n",
    "    \"\"\"\n",
    "    tmp=np.zeros(len(a))\n",
    "    for i,j in enumerate(a):\n",
    "        tmp[i]=int(Swara_n[j])\n",
    "    return tmp\n",
    "\n",
    "def get_swaraas(a):\n",
    "    \"\"\"\n",
    "        Gets the numbers as input and compares with Dictionary and converts it to \n",
    "        Swaraas\n",
    "    \"\"\"\n",
    "    tmp=[]\n",
    "    for i,j in enumerate(a):\n",
    "        tmp.append(Swara[j])\n",
    "    return tmp\n",
    "def get_rawswar(a):\n",
    "    \"\"\"\n",
    "        Gets the Raw Swara sthana\n",
    "    \"\"\"\n",
    "    b=[]\n",
    "    for i,j in enumerate(a):\n",
    "        b.append(a[i][0])\n",
    "    return b\n",
    "        \n",
    "# Get Swara Sthana Number    \n",
    "A_un = get_swara_stan(A_u)\n",
    "A_ln = get_swara_stan(A_l)\n",
    "# Swara Sthan Translation \n",
    "A_un += transl\n",
    "A_ln += transl\n",
    "# Get the Swara sthana using the translated number\n",
    "Al_new_tmp = get_swaraas(A_ln)\n",
    "Au_new_tmp = get_swaraas(A_un)\n",
    "\n",
    "# Get Raw Swara for Al and Au\n",
    "Al_new = get_rawswar(Al_new_tmp)\n",
    "Au_new = get_rawswar(Au_new_tmp)\n",
    "# Get Raw Swara for Raagas Base swaras\n",
    "Al_base = get_rawswar(A_l)\n",
    "Au_base = get_rawswar(A_u)"
   ]
  },
  {
   "cell_type": "code",
   "execution_count": 4,
   "metadata": {},
   "outputs": [
    {
     "name": "stdout",
     "output_type": "stream",
     "text": [
      "Raaga\n",
      "Arohanam  : ['S', 'R', 'M', 'P', 'D', 'S']\n",
      "Avrohanam : ['S', 'D', 'P', 'M', 'G', 'R', 'S']\n",
      "Translated\n",
      "Arohanam  : ['R', 'G', 'P', 'D', 'N', 'R']\n",
      "Avrohanam : ['R', 'N', 'D', 'P', 'M', 'G', 'R']\n"
     ]
    }
   ],
   "source": [
    "print(\"Raaga\")\n",
    "print(\"Arohanam  :\",Au_base)\n",
    "print(\"Avrohanam :\",Al_base)\n",
    "\n",
    "print(\"Translated\")\n",
    "print(\"Arohanam  :\",Au_new)\n",
    "print(\"Avrohanam :\",Al_new)"
   ]
  },
  {
   "cell_type": "code",
   "execution_count": 5,
   "metadata": {},
   "outputs": [],
   "source": [
    "# Create Dictionary with with Translated\n",
    "\n",
    "def crt_dic(dict, key, value): \n",
    "      \n",
    "    if key not in dict.keys(): \n",
    "        dict[key] = value\n",
    "        \n",
    "\n",
    "dict = {}\n",
    "for num,val in enumerate(Au_base):\n",
    "    crt_dic(dict,val,Au_new[num])\n",
    "    \n",
    "for num,val in enumerate(Al_base):\n",
    "    crt_dic(dict,val,Al_new[num])    \n",
    "    "
   ]
  },
  {
   "cell_type": "code",
   "execution_count": 6,
   "metadata": {},
   "outputs": [],
   "source": [
    "with open(\"SGS_tran.txt\",'a') as f1:\n",
    "    with open(\"SSG.txt\",'r') as f2:\n",
    "        while True:\n",
    "            c = f2.read(1)\n",
    "            if not c:\n",
    "                break\n",
    "            else:\n",
    "                if c in dict.keys():\n",
    "                    f1.write(dict[c])\n",
    "                else:\n",
    "                    f1.write(c)"
   ]
  },
  {
   "cell_type": "code",
   "execution_count": 7,
   "metadata": {},
   "outputs": [
    {
     "name": "stdout",
     "output_type": "stream",
     "text": [
      "['M,MMPMGRGR,,N,RG,NR,GM,R\\n', 'M,MMPMGRGRGMP,MGMRDRNR,,\\n', 'G,,N,DR,MG,,GMGN,DR,MG,,\\n', 'DNDPDPDMPMG,,RGRNRRDNNR,,']\n"
     ]
    }
   ],
   "source": [
    "with open(\"SGS_tran.txt\",'r') as f2:\n",
    "    while True:\n",
    "        c=f2.readlines()\n",
    "        if not c:\n",
    "            break\n",
    "        else:\n",
    "            print(c)"
   ]
  },
  {
   "cell_type": "code",
   "execution_count": null,
   "metadata": {},
   "outputs": [],
   "source": []
  }
 ],
 "metadata": {
  "kernelspec": {
   "display_name": "Python 3",
   "language": "python",
   "name": "python3"
  },
  "language_info": {
   "codemirror_mode": {
    "name": "ipython",
    "version": 3
   },
   "file_extension": ".py",
   "mimetype": "text/x-python",
   "name": "python",
   "nbconvert_exporter": "python",
   "pygments_lexer": "ipython3",
   "version": "3.7.1"
  }
 },
 "nbformat": 4,
 "nbformat_minor": 2
}
